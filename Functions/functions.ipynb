{
 "cells": [
  {
   "cell_type": "markdown",
   "metadata": {},
   "source": [
    "# Functions\n",
    "A function is a sequence of instructions that is packaged into a unit that can be reused\n",
    "\n",
    "## Defining & Using Functions\n",
    "* be descriptive when naming\n",
    "* some interpreted languages use function hoisting\n",
    "\n",
    "### Function Signatures\n"
   ]
  }
 ],
 "metadata": {
  "language_info": {
   "name": "python"
  }
 },
 "nbformat": 4,
 "nbformat_minor": 2
}
