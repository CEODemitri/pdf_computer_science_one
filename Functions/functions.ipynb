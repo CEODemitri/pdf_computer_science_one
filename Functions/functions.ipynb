{
 "cells": [
  {
   "cell_type": "markdown",
   "metadata": {},
   "source": [
    "# Functions\n",
    "A function is a sequence of instructions that is packaged into a unit that can be reused\n",
    "\n",
    "## Defining & Using Functions\n",
    "* be descriptive when naming\n",
    "* some interpreted languages use function hoisting\n",
    "\n",
    "### Function Signatures\n",
    "function signature:: name (identifier), list of input parameters and output\n",
    "\n",
    "<!-- c function declaration -->\n",
    "<pre>\n",
    "    double getDistance(double x1, double y1, double x2, double y2);\n",
    "    <!-- double: return type | getDistance: identifier | double x1... : parameters-->\n",
    "</pre>\n",
    "\n",
    "### Calling Functions\n",
    "the usual\n",
    "\n",
    "### Organizing"
   ]
  },
  {
   "cell_type": "markdown",
   "metadata": {},
   "source": [
    "## How Functions Work\n",
    "\n",
    "each program has a program stack ( aka: call stack)\n",
    "stack:: data structure that holds elements in LIFO manner; elements added to top\n",
    "* in programming call stack used to track flow of control\n",
    "\n",
    "-- reread the start of this section. great information"
   ]
  }
 ],
 "metadata": {
  "language_info": {
   "name": "python"
  }
 },
 "nbformat": 4,
 "nbformat_minor": 2
}
