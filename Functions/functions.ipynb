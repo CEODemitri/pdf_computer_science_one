{
 "cells": [
  {
   "cell_type": "markdown",
   "metadata": {},
   "source": [
    "# Functions\n",
    "A function is a sequence of instructions that is packaged into a unit that can be reused\n",
    "\n",
    "## Defining & Using Functions\n",
    "* be descriptive when naming\n",
    "* some interpreted languages use function hoisting\n",
    "\n",
    "### Function Signatures\n",
    "function signature:: name (identifier), list of input parameters and output\n",
    "\n",
    "<!-- c function declaration -->\n",
    "<pre>\n",
    "    double getDistance(double x1, double y1, double x2, double y2);\n",
    "    <!-- double: return type | getDistance: identifier | double x1... : parameters-->\n",
    "</pre>\n",
    "\n",
    "### Calling Functions\n",
    "the usual\n",
    "\n",
    "### Organizing"
   ]
  },
  {
   "cell_type": "markdown",
   "metadata": {},
   "source": [
    "## How Functions Work\n",
    "\n",
    "each program has a program stack ( aka: call stack)\n",
    "stack:: data structure that holds elements in LIFO manner; elements added to top\n",
    "* in programming call stack used to track flow of control\n",
    "\n",
    "-- reread the start of this section. great information\n",
    "-- restart\n",
    "each program has a program stack (aka: call stack)\n",
    "stack:: a data structure that holds elements in LIFO  manner; \n",
    "push <- elements are added to the top of the stack\n",
    "pop <- elements are removed from the top of the stack\n",
    "**call stack** in programming is used to keep track of flow of control\n",
    "each time a function is called, new **stack frame** is created and pushed to top of stack\n",
    "**return address** :: memory location that the program should return to after execution of function\n",
    "\n",
    "**Program Stack**\n",
    "[asc order in C reference]\n",
    "\n",
    "0. program code\n",
    "1. static content gloabal variables\n",
    "2. main() stack frame\n",
    "3. 'descendant' function frame\n",
    "4. parent function frame\n",
    "5. unused stack space [lowest memory space]\n",
    "\n",
    "### Call by Value\n",
    "- variables are not passed to the function when used as args; instead the value is passed to the stack frame\n",
    "\n",
    "- copies of the values are passed to the function. any changes to parameters inside the function have no effect on original variables who were passed to the function when it was invoked.\n",
    "\n",
    "### Call By Reference\n",
    "- variables are passed to the function when used as args; instead the memory address of the variables is passed to the stack frame\n",
    "\n",
    "- changes made to parameters inside the function are reflected in the original variables who were passed to the function when it was invoked.\n",
    "**dereferencing and referencing operators**\n",
    "<!-- in c for sure, dunno of other languages at this moment -->\n",
    "* & operator: used to get the memory address of a variable"
   ]
  },
  {
   "cell_type": "markdown",
   "metadata": {},
   "source": [
    "## Other Issues\n",
    "### Functions as Entities\n",
    "**first class citizen** :: any entity that can be stored in a variable or passed as an arguement to a function or returned as a value from a function\n",
    "\n",
    "in functional programming, functions are first class citizens\n",
    "\n",
    "**callback** :: passing a function to a function as an argument\n",
    "\n",
    "<!-- three paragraphs from next subtopic -->"
   ]
  }
 ],
 "metadata": {
  "language_info": {
   "name": "python"
  }
 },
 "nbformat": 4,
 "nbformat_minor": 2
}
