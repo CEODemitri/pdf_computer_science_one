{
 "cells": [
  {
   "cell_type": "markdown",
   "metadata": {},
   "source": [
    "# Error Handling\n",
    "\n",
    "How smart is our world:\n",
    "\"On Sept 26, 1983, a newly installed soviet early warning system gave indication that nuclear missles had been launched on soviet union from the united states....false alarm caused a sunlight reflections off high altitude clouds as well as other bugs in the newly deployed systems\"\n",
    "\n",
    "0. obvious set up, i wonder did any of the programmers recognize any outsider(code or person). how was the system compromised and covered so gracefully\n",
    "\n",
    "1999 \"mars orbiter lost and disintergrated\"\n",
    "\n",
    "-- your job was to make this thing work (build code, test and repeat until perfect.) So easily we attribute failure to human intervention and lack of perfection. I do not agree. I believe people make mistakes but mistakes are greatly decreased and many times eliminated when working effectively. now, the biggest of the biggest have messed up, how dare you reach for perfection and think otherwise. You are a human, even expert human can't get it right all the time. sure. bigger beliefs over here.\n",
    "\n",
    "\n",
    "## Error Handling\n",
    "\n",
    "## Error Handling Strategies\n",
    "### Defensive Programming\n",
    "\n",
    "**defensive programming** look before you leap\n",
    "usually with a conditional statement\n",
    "\n",
    "for example:: \n",
    "divide by a number\n",
    "to prevent a division by zero error we can check denominator is zero or not. \n",
    "if is raise error instead of performing division\n",
    "what to do next? up to the programmer\n",
    "\n",
    "be careful when defensive programming\n",
    "\n",
    "### Execptions \n",
    "**exception** event or occurence of an anomalous, erroneous, or exceptional condition that requires special handling\n",
    "interrupt the normal flow of control ina program by handing flow of control over to exception handlers\n",
    "\n",
    "languages usually support exception handling using a try-catch control structure\n",
    "\n",
    "try:: used to encapsulate potentially dangerous code, or code that would fail if an error condition occurs\n",
    "catch:: where you specify how to handle exception\n",
    "- if try block runs with no exception, control flow will skip over catch statement\n",
    "- best practice to order catch blocks from most specific to most general\n",
    "* some languages support a third, finally control statement with basic structure below\n",
    "\n",
    "try {\n",
    "    // potentially dangerous code\n",
    "} catch (Exception e) {\n",
    "    // handle exception\n",
    "} finally {\n",
    "    // code that will always run\n",
    "}"
   ]
  },
  {
   "cell_type": "markdown",
   "metadata": {},
   "source": [
    "## Exercises\n",
    "\n",
    "(write each exercise as own jupyter block)"
   ]
  },
  {
   "cell_type": "code",
   "execution_count": 4,
   "metadata": {},
   "outputs": [
    {
     "name": "stdout",
     "output_type": "stream",
     "text": [
      "5\n",
      "1\n",
      "0.25\n"
     ]
    }
   ],
   "source": [
    "# write function to compute GCD to handle invalid inputs\n",
    "# code below here\n",
    "\n",
    "def calculateGCD(a, b):\n",
    "    if a < 0 or b < 0:\n",
    "        raise ValueError(\"Inputs must be positive integers.\")\n",
    "    while b!= 0:\n",
    "        a, b = b, a % b\n",
    "    return a\n",
    "print(calculateGCD(10, 5))\n",
    "\n",
    "print(calculateGCD(4, 5))\n",
    "\n",
    "# try calculateGCD with a fraction\n",
    "print(calculateGCD(2, 3/4))\n"
   ]
  },
  {
   "cell_type": "code",
   "execution_count": 6,
   "metadata": {},
   "outputs": [
    {
     "name": "stdout",
     "output_type": "stream",
     "text": [
      "78.53981633974483\n"
     ]
    },
    {
     "ename": "ValueError",
     "evalue": "Radius must be a positive number.",
     "output_type": "error",
     "traceback": [
      "\u001b[0;31m---------------------------------------------------------------------------\u001b[0m",
      "\u001b[0;31mValueError\u001b[0m                                Traceback (most recent call last)",
      "Cell \u001b[0;32mIn[6], line 13\u001b[0m\n\u001b[1;32m      9\u001b[0m     \u001b[38;5;28;01mreturn\u001b[39;00m math\u001b[38;5;241m.\u001b[39mpi \u001b[38;5;241m*\u001b[39m radius\u001b[38;5;241m*\u001b[39m\u001b[38;5;241m*\u001b[39m\u001b[38;5;241m2\u001b[39m\n\u001b[1;32m     12\u001b[0m \u001b[38;5;28mprint\u001b[39m(calculateCircleArea(\u001b[38;5;241m5\u001b[39m))\n\u001b[0;32m---> 13\u001b[0m \u001b[38;5;28mprint\u001b[39m(\u001b[43mcalculateCircleArea\u001b[49m\u001b[43m(\u001b[49m\u001b[38;5;241;43m-\u001b[39;49m\u001b[38;5;241;43m2\u001b[39;49m\u001b[43m)\u001b[49m)\n",
      "Cell \u001b[0;32mIn[6], line 8\u001b[0m, in \u001b[0;36mcalculateCircleArea\u001b[0;34m(radius)\u001b[0m\n\u001b[1;32m      6\u001b[0m \u001b[38;5;28;01mdef\u001b[39;00m \u001b[38;5;21mcalculateCircleArea\u001b[39m(radius):\n\u001b[1;32m      7\u001b[0m     \u001b[38;5;28;01mif\u001b[39;00m radius \u001b[38;5;241m<\u001b[39m \u001b[38;5;241m0\u001b[39m:\n\u001b[0;32m----> 8\u001b[0m         \u001b[38;5;28;01mraise\u001b[39;00m \u001b[38;5;167;01mValueError\u001b[39;00m(\u001b[38;5;124m\"\u001b[39m\u001b[38;5;124mRadius must be a positive number.\u001b[39m\u001b[38;5;124m\"\u001b[39m)\n\u001b[1;32m      9\u001b[0m     \u001b[38;5;28;01mreturn\u001b[39;00m math\u001b[38;5;241m.\u001b[39mpi \u001b[38;5;241m*\u001b[39m radius\u001b[38;5;241m*\u001b[39m\u001b[38;5;241m*\u001b[39m\u001b[38;5;241m2\u001b[39m\n",
      "\u001b[0;31mValueError\u001b[0m: Radius must be a positive number."
     ]
    }
   ],
   "source": [
    "# write fucntion to compute statistics of a circle to handle invalid inputs (negative radius)\n",
    "# code below here\n",
    "\n",
    "import math\n",
    "\n",
    "def calculateCircleArea(radius):\n",
    "    if radius < 0:\n",
    "        raise ValueError(\"Radius must be a positive number.\")\n",
    "    return math.pi * radius**2\n",
    "\n",
    "\n",
    "print(calculateCircleArea(5))\n",
    "print(calculateCircleArea(-2))"
   ]
  },
  {
   "cell_type": "code",
   "execution_count": 7,
   "metadata": {},
   "outputs": [
    {
     "name": "stdout",
     "output_type": "stream",
     "text": [
      "5.0\n"
     ]
    }
   ],
   "source": [
    "# write function to calculate square root functions to handle invalid inputs\n",
    "# code below here\n",
    "\n",
    "def calculateSquareRoot(number):\n",
    "    if number < 0:\n",
    "        raise ValueError(\"Number must be a non-negative number.\")\n",
    "    return math.sqrt(number)\n",
    "\n",
    "print(calculateSquareRoot(25))"
   ]
  }
 ],
 "metadata": {
  "kernelspec": {
   "display_name": "Python 3",
   "language": "python",
   "name": "python3"
  },
  "language_info": {
   "codemirror_mode": {
    "name": "ipython",
    "version": 3
   },
   "file_extension": ".py",
   "mimetype": "text/x-python",
   "name": "python",
   "nbconvert_exporter": "python",
   "pygments_lexer": "ipython3",
   "version": "3.9.6"
  }
 },
 "nbformat": 4,
 "nbformat_minor": 2
}
