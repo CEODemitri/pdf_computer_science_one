{
 "cells": [
  {
   "cell_type": "markdown",
   "metadata": {},
   "source": [
    "# Error Handling\n",
    "\n",
    "How smart is our world:\n",
    "\"On Sept 26, 1983, a newly installed soviet early warning system gave indication that nuclear missles had been launched on soviet union from the united states....false alarm caused a sunlight reflections off high altitude clouds as well as other bugs in the newly deployed systems\"\n",
    "\n",
    "0. obvious set up, i wonder did any of the programmers recognize any outsider(code or person). how was the system compromised and covered so gracefully\n",
    "\n",
    "1999 \"mars orbiter lost and disintergrated\"\n",
    "\n",
    "-- your job was to make this thing work (build code, test and repeat until perfect.) So easily we attribute failure to human intervention and lack of perfection. I do not agree. I believe people make mistakes but mistakes are greatly decreased and many times eliminated when working effectively. now, the biggest of the biggest have messed up, how dare you reach for perfection and think otherwise. You are a human, even expert human can't get it right all the time. sure. bigger beliefs over here.\n",
    "\n",
    "\n",
    "## Error Handling\n",
    "\n",
    "## Error Handling Strategies\n",
    "### Defensive Programming\n",
    "\n",
    "**defensive programming** look before you leap\n",
    "usually with a conditional statement\n",
    "\n",
    "for example:: \n",
    "divide by a number\n",
    "to prevent a division by zero error we can check denominator is zero or not. \n",
    "if is raise error instead of performing division\n",
    "what to do next? up to the programmer\n",
    "\n",
    "be careful when defensive programming\n",
    "\n",
    "### Execptions "
   ]
  }
 ],
 "metadata": {
  "language_info": {
   "name": "python"
  }
 },
 "nbformat": 4,
 "nbformat_minor": 2
}
