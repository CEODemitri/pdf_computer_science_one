{
 "cells": [
  {
   "cell_type": "markdown",
   "metadata": {},
   "source": [
    "# Strings\n",
    "\n",
    "String is an ordered sequence of characters\n",
    "- When reading input fro user, read as string and THEN converted to necessary data type*\n",
    "\n",
    "Working with Strings vary based on language\n",
    "\n",
    "## Basic Operations\n",
    "- Concatenation: '+'\n",
    "- Indexing: []\n",
    "- Length: len()\n",
    "- Slicing: [start:stop:step]\n",
    "- Varies by the language*"
   ]
  }
 ],
 "metadata": {
  "language_info": {
   "name": "python"
  }
 },
 "nbformat": 4,
 "nbformat_minor": 2
}
