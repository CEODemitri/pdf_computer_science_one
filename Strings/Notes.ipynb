{
 "cells": [
  {
   "cell_type": "markdown",
   "metadata": {},
   "source": [
    "# Strings\n",
    "\n",
    "String is an ordered sequence of characters\n",
    "- When reading input fro user, read as string and THEN converted to necessary data type*\n",
    "\n",
    "Working with Strings vary based on language\n",
    "\n",
    "## Basic Operations\n",
    "- Concatenation: '+'\n",
    "- Indexing: []\n",
    "- Length: len()\n",
    "- Slicing: [start:stop:step]\n",
    "- Varies by the language*"
   ]
  },
  {
   "cell_type": "markdown",
   "metadata": {},
   "source": [
    "## Comparisons\n",
    "\n",
    "Most viable to use functions to compare | process strings\n",
    "** == is a reference comparison, not equipped to manage comparing strings\n",
    "\n",
    "The solution:\n",
    "Many languages use a comparator which is either a function or an object\n"
   ]
  },
  {
   "cell_type": "markdown",
   "metadata": {},
   "source": [
    "## Tokenizing\n",
    "\n",
    "Common to store different pieces of data as a STRING and each piece of data is demarcated by some delimiter\n",
    "\n",
    "i.e\n",
    "Smith,Jane,12345888,1985-09-08\n",
    "* a csv string holding data about a particular person (lastName, firstName, ID, birthDate)\n",
    "\n",
    "**parsing** processing strings"
   ]
  }
 ],
 "metadata": {
  "language_info": {
   "name": "python"
  }
 },
 "nbformat": 4,
 "nbformat_minor": 2
}
