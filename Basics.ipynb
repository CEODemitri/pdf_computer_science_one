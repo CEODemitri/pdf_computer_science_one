{
 "cells": [
  {
   "cell_type": "markdown",
   "metadata": {
    "vscode": {
     "languageId": "plaintext"
    }
   },
   "source": [
    "# Control Flow\n",
    "the flow of control is how a program processes it instructions\n",
    "- Sequential: instructions are executed in the order they appear\n",
    "\n",
    "STATE::\n",
    "the state of a program is the value of all its variables and other information/data stored in memory at a given momnet during execution.\n",
    "\n",
    "ProcedurAL Programming\n"
   ]
  },
  {
   "cell_type": "markdown",
   "metadata": {},
   "source": [
    "## Flow Charts\n",
    "Flowchart:: \n",
    "Visual representation of an algorithm or process consisting of boxes or nodes connected by direct edges\n",
    "0. Boxes can represent individual step or decision to be made\n",
    "1. Edges establish an order of operations in the diagram\n",
    "2. Other boxes can represent a process, operation or action to be performed. Boxes representing proceses are usually rectangle"
   ]
  },
  {
   "cell_type": "markdown",
   "metadata": {},
   "source": [
    "---\n",
    "# Variables\n",
    "A variable is a named location in memory used to store data.\n",
    "- Declaration: defining a variable and specifying its type\n",
    "- Initialization: assigning a value to a variable\n",
    "- Assignment: changing the value of a variable"
   ]
  },
  {
   "cell_type": "markdown",
   "metadata": {},
   "source": [
    "## Naming Rules & Convention\n",
    "0. camelCase\n",
    "1. snake_case\n",
    "2. PascalCase\n",
    "\n",
    "- Avoid Pluralization, use singular forms"
   ]
  },
  {
   "cell_type": "markdown",
   "metadata": {},
   "source": [
    "## Types \n",
    "the most basic type of cariable a computer can use is a numeric type\n",
    "- \"binary notation\" \n",
    "\n",
    "### Characters and Strings\n",
    "- ASCII:: American Standard Code for Information Interchange -> more research\n",
    "-- tip: to flip lowercase to uppercase use simply flip the second bit (0for uppercase and 1for lowercase)\n",
    "-- loopup the character table\n",
    "- Unicode:: Universal Character Set\n",
    "\n",
    "- escape characters\n",
    "example::\n",
    "- \\n for newline\n",
    "- \\t for tab\n",
    "- \\\" for double quote\n",
    "- \\\\ for backslash\n",
    "- \\0 for null terminating character\n",
    "\n",
    "### Boolean Types\n",
    "- boolean values are used to make decisions and control the flow of operations in a program\n",
    "\n",
    "### Object and Reference Types\n",
    "encapsulation:: grouping multiple pieces of data into one logical entity\n",
    "-- ex. Student -> first-name, last-name, GPA, year, major\n",
    "\n",
    "enumeration:: allows user to define a list of keywords associated with integers\n",
    "-- ex. days of the week, colors, seasons"
   ]
  },
  {
   "cell_type": "markdown",
   "metadata": {},
   "source": [
    "## Declaring Variables: Dynamic vs Static\n",
    "a language that requires type declarations is statically typed\n",
    "\n",
    "- python example\n",
    "number: int = 20\n",
    "\n",
    "type of variable is determined by type of value assigned to it is dynamically typed -> interpreted languages"
   ]
  },
  {
   "cell_type": "markdown",
   "metadata": {},
   "source": [
    "## Scoping\n",
    "\n",
    "! Global variables make the state and execution of a program less predictable\n",
    "** best practice to only use Globals as Constants "
   ]
  },
  {
   "cell_type": "markdown",
   "metadata": {},
   "source": [
    "---\n",
    "# Operators\n",
    "\n",
    "## Assignment operators\n",
    "unary operator\n",
    "\n",
    "## Numerical Operators\n",
    "0. addition and subtraction\n",
    "1. multiplication and division\n",
    "2. integer division\n",
    "\n",
    "## String Concatenation\n",
    "0. simple\n",
    "\n",
    "## Order of Precedence\n",
    "\n",
    "## Common Numerical Errors\n",
    "0. integer division\n",
    "1. division by zero\n",
    "2. overflow\n",
    "3. underflow\n",
    "\n",
    "## Other operators\n",
    "0. increment operators\n",
    "- postfix operators: i++ .. new value after expression\n",
    "- prefix operators: ++i .. new value in expression\n",
    "\n",
    "1. compound assignment operators\n",
    "- things to be mindful of. \n",
    "\n",
    "\n",
    "\n"
   ]
  },
  {
   "cell_type": "markdown",
   "metadata": {},
   "source": [
    "---\n",
    "# Basic Input/Output\n",
    "## Standard Input & Output\n",
    "0. communication streams defined by most computer systems ->\n",
    "- standard input (stdin)\n",
    "- standard output (stdout)\n",
    "- standard error (stderr)\n",
    "\n",
    "## Graphical User Interfaces\n",
    " - thick client:: local installed applications\n",
    " - thin client:: web applications\n",
    "\n",
    "## Output Using [printf()] style Formatting\n",
    " function breakdown\n",
    " - function works by providing it a number of arguements\n",
    " - first arguement is always a string that specifies the formatting of result using placeholders whick will be placed with the values stored in variables but in a formatted manner\n",
    " 0. placeholders ->\n",
    " - %d for integer variable or literal\n",
    " - %f for floating-point variable or literal\n",
    " - %c for character variable or literal\n",
    " - %s for string variable or literal\n",
    " 1. placeholders + modifiers\n",
    " - better to research than attempt an example on here\n",
    "\n",
    "## Command Line Input\n",
    "command line arguments are provided as strings\n",
    "- referenced as argv usually or the variable argc\n",
    "\n",
    "\n",
    "\n",
    "\n",
    "\n"
   ]
  },
  {
   "cell_type": "markdown",
   "metadata": {},
   "source": [
    "# Debugging\n",
    "Grace Hopper in 1947 -> bug\n",
    "\n",
    "## Types of Errors\n",
    "0. syntax errors -> incorrect use of syntax\n",
    "1. runtime errors -> program crashes or produces incorrect output\n",
    "\n",
    "2 . logical errors -> incorrect program behavior\n",
    "generally only found by rigorous software testing\n",
    "some testing frameworks can perform regression testing -> if fixing one bug caused or uncovered another, etc\n",
    "\n",
    "3. type errors -> incompatible types used in operation\n",
    "4. name errors -> undeclared variables or functions\n",
    "\n",
    "## Strategies\n",
    "console/print is a poor mans ways of debugging\n",
    "much better to use a debugging tool"
   ]
  },
  {
   "cell_type": "markdown",
   "metadata": {},
   "source": [
    "# Examples\n",
    "## temperature conversion \n",
    "-> write a program to convert fahrenheit to celsius\n",
    "c = 5/9 * (f - 32)\n",
    "\n",
    "### basic pseudocode\n",
    "- step 1 :: read a fahrenheit value from user\n",
    "- step 2 :: calculate celsius value\n",
    "- step 3 :: print the celsius value to user\n",
    "\n",
    "### more specific pseudocode\n",
    "- step 1 :: prompt user to enter a temperature in fahrenheit\n",
    "- step 2 :: read fahrenheit value from user\n",
    "- step 3 :: calculate celsius value using the conversion formula c = 5/9 * (f - 32)\n",
    "- step 4 :: display the calculated celsius value to the user\n",
    "\n",
    "## Quadratic Roots\n",
    "-> find the roots of the quadratic equation with coefficients, a, b and c using quadratic formula\n",
    "axˆ2 + bx + c = 0\n",
    "x = -b +- √bˆ2 - 4ac/2a\n",
    "\n",
    "- step 1 :: prompt user to enter a\n",
    "- step 2 :: read input from user\n",
    "- step 3 :: prompt user to enter b\n",
    "- step 4 :: read input from user\n",
    "- step 5 :: prompt user to enter c\n",
    "- step 6 :: read input from user\n",
    "- step 7 :: calculate r1 and r2 using quadratic formula\n",
    "- step 8 :: display the roots to user"
   ]
  },
  {
   "cell_type": "markdown",
   "metadata": {},
   "source": [
    "# Exercises\n",
    "## mileage deductions\n",
    "- step 1 :: prompt user to enter starting odometer reading\n",
    "- step 2 :: a -> read input from user\n",
    "- step 3 :: prompt user to enter ending odometer reading\n",
    "- step 4 :: b -> read input from user\n",
    "- step 5 :: c -> calculate miles traveled b - a\n",
    "- step 6 :: using standard rate of $0.575 multiply by c\n",
    "- step 7 :: output c as the reimbursement total to user\n",
    "\n",
    "## total cost of loan\n",
    "- step 1 :: prompt user to enter loan amount\n",
    "- step 2 :: a -> read input from user\n",
    "- step 3 :: prompt user to enter annual interest rate\n",
    "- step 4 :: b -> read input from user\n",
    "- step 5 :: prompt user to enter number of years\n",
    "- step 6 :: c -> calculate monthly interest rate by dividing b by 12\n",
    "- step 7 :: using the given formula, calculate total cost\n",
    "- step 8 :: display the total cost to user\n",
    "\n",
    "## annualized appreciation of asset\n",
    "- step 1 :: prompt user to enter initial investment amount\n",
    "- step 2 :: a -> read input from user\n",
    "- step 3 :: prompt user to enter sales price\n",
    "- step 4 :: b -> read input from user\n",
    "- step 5 :: c -> calculate the difference of b - a\n",
    "- step 6 :: r -> compute appreciation rate\n",
    "- step 7 :: prompt user to enter number of years asset held\n",
    "- step 8 :: calculate annualized rate by using formula (1 + r)ˆ1/y -1\n",
    "- step 9 :: display the annualized appreciation rate to user"
   ]
  }
 ],
 "metadata": {
  "language_info": {
   "name": "python"
  }
 },
 "nbformat": 4,
 "nbformat_minor": 2
}
