{
 "cells": [
  {
   "cell_type": "markdown",
   "metadata": {
    "vscode": {
     "languageId": "plaintext"
    }
   },
   "source": [
    "# Control Flow\n",
    "the flow of control is how a program processes it instructions\n",
    "- Sequential: instructions are executed in the order they appear\n",
    "\n",
    "STATE::\n",
    "the state of a program is the value of all its variables and other information/data stored in memory at a given momnet during execution.\n",
    "\n",
    "ProcedurAL Programming\n"
   ]
  },
  {
   "cell_type": "markdown",
   "metadata": {},
   "source": [
    "## Flow Charts\n",
    "Flowchart:: \n",
    "Visual representation of an algorithm or process consisting of boxes or nodes connected by direct edges\n",
    "0. Boxes can represent individual step or decision to be made\n",
    "1. Edges establish an order of operations in the diagram\n",
    "2. Other boxes can represent a process, operation or action to be performed. Boxes representing proceses are usually rectangle"
   ]
  },
  {
   "cell_type": "markdown",
   "metadata": {},
   "source": [
    "---\n",
    "# Variables\n",
    "A variable is a named location in memory used to store data.\n",
    "- Declaration: defining a variable and specifying its type\n",
    "- Initialization: assigning a value to a variable\n",
    "- Assignment: changing the value of a variable"
   ]
  },
  {
   "cell_type": "markdown",
   "metadata": {},
   "source": [
    "## Naming Rules & Convention\n",
    "0. camelCase\n",
    "1. snake_case\n",
    "2. PascalCase\n",
    "\n",
    "- Avoid Pluralization, use singular forms"
   ]
  },
  {
   "cell_type": "markdown",
   "metadata": {},
   "source": [
    "## Types \n",
    "the most basic type of cariable a computer can use is a numeric type\n",
    "- \"binary notation\" \n",
    "\n",
    "### Characters and Strings\n",
    "- ASCII:: American Standard Code for Information Interchange -> more research\n",
    "-- tip: to flip lowercase to uppercase use simply flip the second bit (0for uppercase and 1for lowercase)\n",
    "-- loopup the character table\n",
    "- Unicode:: Universal Character Set\n",
    "\n",
    "- escape characters\n",
    "example::\n",
    "- \\n for newline\n",
    "- \\t for tab\n",
    "- \\\" for double quote\n",
    "- \\\\ for backslash\n",
    "- \\0 for null terminating character\n",
    "\n",
    "### Boolean Types\n",
    "- boolean values are used to make decisions and control the flow of operations in a program\n",
    "\n",
    "### Object and Reference Types\n",
    "encapsulation:: grouping multiple pieces of data into one logical entity\n",
    "-- ex. Student -> first-name, last-name, GPA, year, major\n",
    "\n",
    "enumeration:: allows user to define a list of keywords associated with integers\n",
    "-- ex. days of the week, colors, seasons"
   ]
  },
  {
   "cell_type": "markdown",
   "metadata": {},
   "source": [
    "## Declaring Variables: Dynamic vs Static\n",
    "a language that requires type declarations is statically typed\n",
    "\n",
    "- python example\n",
    "number: int = 20\n",
    "\n",
    "type of variable is determined by type of value assigned to it is dynamically typed -> interpreted languages"
   ]
  },
  {
   "cell_type": "markdown",
   "metadata": {},
   "source": [
    "## Scoping\n",
    "\n",
    "! Global variables make the state and execution of a program less predictable\n",
    "** best practice to only use Globals as Constants "
   ]
  },
  {
   "cell_type": "markdown",
   "metadata": {},
   "source": [
    "---\n",
    "# Operators\n",
    "\n",
    "## Assignment operators\n",
    "unary operator\n",
    "\n",
    "## Numerical Operators\n",
    "0. addition and subtraction\n",
    "1. multiplication and division\n",
    "2. integer division\n",
    "\n",
    "## String Concatenation\n",
    "0. simple\n",
    "\n",
    "## Order of Precedence\n",
    "\n",
    "## Common Numerical Errors\n",
    "0. integer division\n",
    "1. division by zero\n",
    "2. overflow\n",
    "3. underflow\n",
    "\n",
    "## Other operators\n",
    "0. increment operators\n",
    "- postfix operators: i++ .. new value after expression\n",
    "- prefix operators: ++i .. new value in expression\n",
    "\n",
    "1. compound assignment operators\n",
    "- things to be mindful of. \n",
    "\n",
    "\n",
    "\n"
   ]
  },
  {
   "cell_type": "markdown",
   "metadata": {},
   "source": [
    "---\n",
    "# Basic Input/Output\n",
    "## Standard Input & Output\n",
    "0. whoa\n",
    "\n",
    "## Graphical User Interfaces\n",
    " "
   ]
  }
 ],
 "metadata": {
  "language_info": {
   "name": "python"
  }
 },
 "nbformat": 4,
 "nbformat_minor": 2
}
