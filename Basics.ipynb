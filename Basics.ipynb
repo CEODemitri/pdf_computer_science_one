{
 "cells": [
  {
   "cell_type": "markdown",
   "metadata": {
    "vscode": {
     "languageId": "plaintext"
    }
   },
   "source": [
    "# Control Flow\n",
    "the flow of control is how a program processes it instructions\n",
    "- Sequential: instructions are executed in the order they appear\n",
    "\n",
    "STATE::\n",
    "the state of a program is the value of all its variables and other information/data stored in memory at a given momnet during execution.\n",
    "\n",
    "ProcedurAL Programming\n"
   ]
  },
  {
   "cell_type": "markdown",
   "metadata": {},
   "source": [
    "## Flow Charts\n",
    "Flowchart:: \n",
    "Visual representation of an algorithm or process consisting of boxes or nodes connected by direct edges\n",
    "0. Boxes can represent individual step or decision to be made\n",
    "1. Edges establish an order of operations in the diagram\n",
    "2. Other boxes can represent a process, operation or action to be performed. Boxes representing proceses are usually rectangle"
   ]
  },
  {
   "cell_type": "markdown",
   "metadata": {},
   "source": [
    "# Variables\n",
    "A variable is a named location in memory used to store data.\n",
    "- Declaration: defining a variable and specifying its type\n",
    "- Initialization: assigning a value to a variable\n",
    "- Assignment: changing the value of a variable"
   ]
  },
  {
   "cell_type": "markdown",
   "metadata": {},
   "source": [
    "## Naming Rules & Convention\n",
    "0. camelCase\n",
    "1. snake_case\n",
    "2. PascalCase\n",
    "\n",
    "- Avoid Pluralization, use singular forms"
   ]
  },
  {
   "cell_type": "markdown",
   "metadata": {},
   "source": [
    "## Types "
   ]
  }
 ],
 "metadata": {
  "language_info": {
   "name": "python"
  }
 },
 "nbformat": 4,
 "nbformat_minor": 2
}
