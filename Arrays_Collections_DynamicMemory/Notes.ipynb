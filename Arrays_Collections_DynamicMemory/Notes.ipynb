{
 "cells": [
  {
   "cell_type": "markdown",
   "metadata": {},
   "source": [
    "# Arrays, Collections, & Dynamic Memory\n",
    "\n",
    "most data is made up of a collection of similar elements\n",
    "\n",
    "** Arrays ** way to collect similar pieces of data together in an ordered collection. data in an array referred to as elements and stored in an orderd manner. Not necessarily sorted, but ordered as placed in the array.\n",
    "Usually able to hold mix elements but some languages require homogous elements\n",
    "\n",
    "## Basic Usage\n",
    "<!-- now each section can become its own notebook but please keep in mind the heading style. keep style consistent. -->\n",
    "\n",
    "** Creating Arrays **\n",
    "- static arrays :: created using the program stack space \n",
    "- dynamic allocated arays :: stored in the heap\n",
    "\n",
    "** Indexing Arrays ** \n",
    "- index :: integer that specifies an element in the array with ZERO INDEXING\n",
    "\n",
    "** Iteration **\n",
    "natural to iterate over elements in an array using a for loop\n",
    "- syntax\n",
    "n <- size of array, arr\n",
    "for ((i <- 0);i <- (n-1); i <- (i + 1)) do\n",
    "  process element arr[i]\n",
    "end\n",
    "\n",
    "* some languages build size of arr into a property that can be accessed\n",
    "len(arr) -> python\n",
    "\n"
   ]
  },
  {
   "cell_type": "code",
   "execution_count": 4,
   "metadata": {},
   "outputs": [
    {
     "name": "stdout",
     "output_type": "stream",
     "text": [
      "3\n"
     ]
    }
   ],
   "source": [
    "arr = [42, 22, 36]\n",
    "\n",
    "# python length of arr\n",
    "print(len(arr))"
   ]
  },
  {
   "cell_type": "markdown",
   "metadata": {},
   "source": [
    "* some languages also support a basic foreach loop\n",
    "for element in arr:\n",
    "  print(element)"
   ]
  },
  {
   "cell_type": "code",
   "execution_count": 5,
   "metadata": {},
   "outputs": [
    {
     "name": "stdout",
     "output_type": "stream",
     "text": [
      "42\n",
      "22\n",
      "36\n"
     ]
    }
   ],
   "source": [
    "for element in arr:\n",
    "    print(element)"
   ]
  },
  {
   "cell_type": "markdown",
   "metadata": {},
   "source": [
    "** Using Arrays in Functions **\n",
    "when arrays are passed to fuctions they are passed as reference to avoid making a new copy of the array\n",
    "\n",
    "---\n",
    "## Static & Dynamic Memory\n",
    "\n",
    "** static arrays ** \n",
    "are allocated and stored on program's call stack within the stack frame in which they are declared"
   ]
  }
 ],
 "metadata": {
  "kernelspec": {
   "display_name": "Python 3",
   "language": "python",
   "name": "python3"
  },
  "language_info": {
   "codemirror_mode": {
    "name": "ipython",
    "version": 3
   },
   "file_extension": ".py",
   "mimetype": "text/x-python",
   "name": "python",
   "nbconvert_exporter": "python",
   "pygments_lexer": "ipython3",
   "version": "3.9.6"
  }
 },
 "nbformat": 4,
 "nbformat_minor": 2
}
