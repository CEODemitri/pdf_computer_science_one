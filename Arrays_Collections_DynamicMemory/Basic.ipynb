{
 "cells": [
  {
   "cell_type": "markdown",
   "metadata": {},
   "source": [
    "# Arrays, Collections, & Dynamic Memory\n",
    "\n",
    "most data is made up of a collection of similar elements\n",
    "\n",
    "** Arrays ** way to collect similar pieces of data together in an ordered collection. data in an array referred to as elements and stored in an orderd manner. Not necessarily sorted, but ordered as placed in the array.\n",
    "Usually able to hold mix elements but some languages require homogous elements\n",
    "\n",
    "## Basic Usage\n",
    "<!-- now each section can become its own notebook but please keep in mind the heading style. keep style consistent. -->"
   ]
  }
 ],
 "metadata": {
  "language_info": {
   "name": "python"
  }
 },
 "nbformat": 4,
 "nbformat_minor": 2
}
