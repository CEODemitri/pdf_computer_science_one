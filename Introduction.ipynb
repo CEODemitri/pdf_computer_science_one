{
 "cells": [
  {
   "cell_type": "markdown",
   "metadata": {},
   "source": [
    "## Problem Solving\n",
    "\n",
    "\"Computer Science is the study of computers and computation. Studying and understanding computational processes and the development of algorithms and techniques and how they apply to problems.\"\n",
    "\n",
    "- Computer Science is the study of computers and using computers to help solve problems."
   ]
  }
 ],
 "metadata": {
  "language_info": {
   "name": "python"
  }
 },
 "nbformat": 4,
 "nbformat_minor": 2
}
