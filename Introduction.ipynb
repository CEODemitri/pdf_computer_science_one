{
 "cells": [
  {
   "cell_type": "markdown",
   "metadata": {},
   "source": [
    "# Problem Solving\n",
    "\n",
    "\"Computer Science is the study of computers and computation. Studying and understanding computational processes and the development of algorithms and techniques and how they apply to problems.\"\n",
    "\n",
    "- Computer Science is the study of computers and using computers to help solve problems.\n",
    "\n",
    "Approaching Problems\n",
    "1. Where are we? To Understand the problem\n",
    "2. Where we want to be? Expectations and desired results\n",
    "\n",
    "### STEP ONE:: DOES THE SOLUTION ALREADY EXIST?\n",
    "Solving Problem Process -> Design, Implementation, Testing, Refinement, Maintenance\n",
    "\n",
    "\n",
    "TOP DOWN -> break down a problem into atoms\n",
    "or \n",
    "BOTTOM UP -> define the smallest and add up to complex\n",
    "\n",
    "[Completed 1.1 Problem Solving : 10 14 24] -> Next 1.2 Computing Basics"
   ]
  },
  {
   "cell_type": "markdown",
   "metadata": {},
   "source": [
    "# Computing Basics\n",
    "- Computer: stores, receives, processes, outputs information\n",
    "- Hardware: physical components\n",
    "- Software: actual machine instructions\n",
    "\n",
    "- Computers are binary because it's the most simplest option\n",
    "\n",
    "\n",
    "- Main memory vs Secondary Memory \n",
    "- Memory is usually measured in powers of two.\n",
    "0. Main memory == Random Access Memory (RAM)\n",
    "1. RAM:: addresses with content"
   ]
  },
  {
   "cell_type": "markdown",
   "metadata": {},
   "source": [
    "# Basic Program Structure\n",
    "- some languages are compiled\n",
    "1. compiler processes source filesand perform pre-compiler operations\n",
    "2. Transform the source code  into another language, a lower-level machine like language into object code\n",
    "\n",
    "a linker will then take the object code and link any necessary code or objects to produce a final program\n",
    "\n",
    "- some languages are interpreted\n",
    "1. top to bottom by intepretter, away from processor\n",
    "2. slower"
   ]
  }
 ],
 "metadata": {
  "language_info": {
   "name": "python"
  }
 },
 "nbformat": 4,
 "nbformat_minor": 2
}
