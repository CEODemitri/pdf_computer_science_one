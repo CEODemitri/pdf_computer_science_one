{
 "cells": [
  {
   "cell_type": "markdown",
   "metadata": {},
   "source": [
    "## Problem Solving\n",
    "\n",
    "\"Computer Science is the study of computers and computation. Studying and understanding computational processes and the development of algorithms and techniques and how they apply to problems.\"\n",
    "\n",
    "- Computer Science is the study of computers and using computers to help solve problems.\n",
    "\n",
    "1. Where are we? To Understand the problem\n",
    "2. Where we want to be? Expectations and desired results\n",
    "\n",
    "# STEP ONE; DOES THE SOLUTION ALREADY EXIST?\n",
    "Solving Problem Process -> Design, Implementation, Testing, Refinement, Maintenance\n",
    "\n",
    "\n",
    "TOP DOWN or BOTTOM\n",
    "\n",
    "[Completed 1.1 Problem Solving : 8 16 24] -> Next 1.2 Computing Basics"
   ]
  }
 ],
 "metadata": {
  "language_info": {
   "name": "python"
  }
 },
 "nbformat": 4,
 "nbformat_minor": 2
}
