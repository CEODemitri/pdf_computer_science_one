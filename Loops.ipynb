{
 "cells": [
  {
   "cell_type": "markdown",
   "metadata": {},
   "source": [
    "# Loops\n",
    "Automated Repititon that can be applied to each element in a collection\n",
    "or perform a task over and over until some condition is met\n",
    "\n",
    "Three Components:\n",
    "\n",
    "0. initialization \n",
    "1. continuation condition\n",
    "2. update statement | iteration\n",
    "\n",
    "Initialization happens before loop begins and serves a way to set up loop\n",
    "continuation condition is logic that evaluates to true or false that specifies whether loop continue or terminate\n",
    "\n",
    "psuedo example\n",
    "- initialize value of variable i to 1\n",
    "- while value of i is less than or equal to 10\n",
    "- perform some action \n",
    "- iterate the variable i by adding one to its value"
   ]
  },
  {
   "cell_type": "code",
   "execution_count": 4,
   "metadata": {},
   "outputs": [
    {
     "name": "stdout",
     "output_type": "stream",
     "text": [
      "0\n",
      "1\n",
      "2\n",
      "3\n",
      "4\n",
      "5\n",
      "6\n",
      "7\n",
      "8\n",
      "9\n",
      "0 kind of cat.\n",
      "3 kind of cat.\n",
      "6 kind of cat.\n",
      "9 kind of cat.\n"
     ]
    }
   ],
   "source": [
    "# python loop\n",
    "for i in range(10):\n",
    "    print(i)\n",
    "\n",
    "for i in range(0, 10, 3):\n",
    "    print(f'{i} kind of cat.')\n"
   ]
  },
  {
   "cell_type": "markdown",
   "metadata": {},
   "source": [
    "## While Loops\n",
    "typically used when may not know how many iterations want to perform \n",
    "\n",
    "\n",
    "### Example\n",
    "* While Loops are best used when number of iterations is uncertain\n",
    "\n",
    "**normalizing** a number\n",
    "\n",
    "INPUT  : A number x, x ≥ 0\n",
    "\n",
    "OUTPUT : x normalized, k is exponent\n",
    "\n",
    "<!-- initialize k -->\n",
    "\n",
    "k <- 0\n",
    "\n",
    "<!-- while loop -->\n",
    "\n",
    "while x > 10 DO\n",
    "\n",
    "    <!-- divide x by 10 -->\n",
    "\n",
    "    x <- x / 10\n",
    "\n",
    "    <!-- increment k by 1 -->\n",
    "    \n",
    "    k <- k + 1\n",
    "END\n",
    "output x,k\n"
   ]
  },
  {
   "cell_type": "markdown",
   "metadata": {},
   "source": [
    "## For Loops\n",
    "allows to specify the three components in same line\n",
    "[ initialization, continuation condition, iteration]\n",
    "typically used to iterate over a collection\n",
    "\n",
    "### Example\n",
    "sum <- 0\n",
    "FOR ( i <- 1; i ≤ 10; i += 1 ) DO\n",
    "    sum <- sum + i\n",
    "END"
   ]
  },
  {
   "cell_type": "code",
   "execution_count": null,
   "metadata": {},
   "outputs": [],
   "source": [
    "# java for loop\n",
    "for (int i = 0; i < 10; i++) {\n",
    "    System.out.println(i);\n",
    "}\n",
    "\n",
    "# initialized once\n",
    "# continuation condition checked before each iteration\n",
    "# iteration occurs after each iteration"
   ]
  },
  {
   "cell_type": "markdown",
   "metadata": {},
   "source": [
    "## Do While Loop\n",
    "always executed at least once\n",
    "\n",
    "### Example\n",
    "i <- 1\n",
    "DO \n",
    "    Perform Some Action\n",
    "    i <- i + 1\n",
    "WHILE i ≤ 10\n",
    "\n",
    "can be seen as a do-until loop: perfor a task until some condition is no longer satisfied"
   ]
  },
  {
   "cell_type": "code",
   "execution_count": null,
   "metadata": {},
   "outputs": [],
   "source": [
    "# python do while loop\n",
    "i = 1\n",
    "while i <= 10:\n",
    "    print(i)\n",
    "    i += 1\n"
   ]
  },
  {
   "cell_type": "markdown",
   "metadata": {},
   "source": [
    "## Foreach Loops\n",
    "can use a for or while loop but this method adds syntatic sugar\n",
    "\n",
    "\n",
    "### Example\n",
    "FOREACH element a in the collection A DO\n",
    "\n",
    "    process the element a\n",
    "    \n",
    "END\n",
    "\n",
    "FOREACH (student s in class A) DO\n",
    "\n",
    "    g <- compute a's grade\n",
    "\n",
    "    send a email informing of grade g\n",
    "END\n",
    "    "
   ]
  },
  {
   "cell_type": "markdown",
   "metadata": {},
   "source": [
    "## Other Issues\n",
    "\n",
    "### Nested Loops\n",
    "used to perform more complex processes\n",
    "\n",
    "### Infinite Loops\n",
    " there are some use cases for instance the **poll loop** \n",
    "\n",
    "* include rigorous test to avoid liek Microsoft Zune Bug\n",
    "\n",
    "### Common Errors"
   ]
  }
 ],
 "metadata": {
  "kernelspec": {
   "display_name": "Python 3",
   "language": "python",
   "name": "python3"
  },
  "language_info": {
   "codemirror_mode": {
    "name": "ipython",
    "version": 3
   },
   "file_extension": ".py",
   "mimetype": "text/x-python",
   "name": "python",
   "nbconvert_exporter": "python",
   "pygments_lexer": "ipython3",
   "version": "3.9.6"
  }
 },
 "nbformat": 4,
 "nbformat_minor": 2
}
