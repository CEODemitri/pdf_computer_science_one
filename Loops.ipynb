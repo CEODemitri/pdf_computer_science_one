{
 "cells": [
  {
   "cell_type": "markdown",
   "metadata": {},
   "source": [
    "# Loops\n",
    "Automated Repititon that can be applied to each element in a collection\n",
    "or perform a task over and over until some condition is met\n",
    "\n",
    "Three Components:\n",
    "\n",
    "0. initialization \n",
    "1. continuation condition\n",
    "2. update statement | iteration\n",
    "\n",
    "Initialization happens before loop begins and serves a way to set up loop\n",
    "continuation condition is logic that evaluates to true or false that specifies whether loop continue or terminate\n",
    "\n",
    "psuedo example\n",
    "- initialize value of variable i to 1\n",
    "- while value of i is less than or equal to 10\n",
    "- perform some action \n",
    "- iterate the variable i by adding one to its value"
   ]
  },
  {
   "cell_type": "markdown",
   "metadata": {},
   "source": [
    "## While Loops\n",
    "typically used when may not know how many iterations want to perform \n",
    "\n",
    "\n",
    "### Example\n"
   ]
  }
 ],
 "metadata": {
  "language_info": {
   "name": "python"
  }
 },
 "nbformat": 4,
 "nbformat_minor": 2
}
