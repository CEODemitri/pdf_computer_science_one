{
 "cells": [
  {
   "cell_type": "markdown",
   "metadata": {},
   "source": [
    "By using Conditional statements, we can design more expressive programs whse behavior depends on their state\n",
    "\n",
    "Example:\n",
    "if value of some variable is greater than some threshold, we can perform action A, otherwise we can perform action B"
   ]
  },
  {
   "cell_type": "markdown",
   "metadata": {},
   "source": [
    "# Logical Operators\n",
    "either true or false -> no in between\n",
    "\n",
    "## Comparison Operators\n",
    "- most commmonly used when logical statements may not have a fixed truth value; depends when the program is run\n",
    "- usually binary operators\n"
   ]
  },
  {
   "cell_type": "code",
   "execution_count": null,
   "metadata": {
    "vscode": {
     "languageId": "plaintext"
    }
   },
   "outputs": [],
   "source": [
    "# comparison operators practice/example below"
   ]
  }
 ],
 "metadata": {
  "language_info": {
   "name": "python"
  }
 },
 "nbformat": 4,
 "nbformat_minor": 2
}
