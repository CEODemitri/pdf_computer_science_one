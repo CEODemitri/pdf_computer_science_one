{
 "cells": [
  {
   "cell_type": "markdown",
   "metadata": {},
   "source": [
    "# Conditionals \n",
    "By using Conditional statements, we can design more expressive programs whse behavior depends on their state\n",
    "\n",
    "Example:\n",
    "if value of some variable is greater than some threshold, we can perform action A, otherwise we can perform action B\n",
    "\n",
    "## Logical Operators\n",
    "either true or false -> no in between\n",
    "\n",
    "### Comparison Operators\n",
    "- most commmonly used when logical statements may not have a fixed truth value; depends when the program is run\n",
    "- usually binary operators"
   ]
  },
  {
   "cell_type": "code",
   "execution_count": null,
   "metadata": {},
   "outputs": [],
   "source": [
    "# comparison operators practice/example below"
   ]
  },
  {
   "cell_type": "code",
   "execution_count": 9,
   "metadata": {},
   "outputs": [
    {
     "name": "stdout",
     "output_type": "stream",
     "text": [
      "5\n"
     ]
    },
    {
     "data": {
      "text/plain": [
       "True"
      ]
     },
     "execution_count": 9,
     "metadata": {},
     "output_type": "execute_result"
    }
   ],
   "source": [
    "a = 5\n",
    "b = 10\n",
    "a < b\n",
    "print(a)\n",
    "a != b\n",
    "# a ≠ b -> True\n",
    "# a ≥ b -> False"
   ]
  },
  {
   "cell_type": "markdown",
   "metadata": {},
   "source": [
    "### Negation\n",
    "flips truth value of expression applied to\n",
    "\n",
    "### Logical And\n",
    "also called a conjunction is a binary operator that is true if and only if both its operands is true\n",
    "\n",
    "### Logical Or\n",
    "true if only one operand is true, if both are false then the logical is false\n",
    "the two vertical bars are called Sheffer Strokes\n",
    "\n",
    "\n",
    "a        b    a OR b\n",
    "fasle  false  false\n",
    "fasle  true   true\n",
    "true   false  true\n",
    "true   true   true \n",
    "\n",
    "### Compound Statements\n",
    "example with pseudo code\n",
    "\n",
    "a AND (b OR c) a OR (b AND c)\n",
    "A leap year is divisible by 4\n",
    "if divisible by 100 is not a leap year unless divisible by 400\n",
    " year mod 400 = 0 OR (year mod 4 = 0 AND year mod 100 ≠ 0)\n",
    "\n",
    "0. tautologies and contradictions -> both equal dead code. no good\n",
    "- tautologies are statements that are always true\n",
    "- contradictions are statements that are always false\n",
    "\n",
    "1. de morgan's laws\n",
    "- not (a AND b) = not a OR not b\n",
    "\n",
    "2. order or precedence\n",
    "- negations, AND operators and last OR operators\n",
    "use parentheses for clearer and easier to read code and communicates intent\n"
   ]
  },
  {
   "cell_type": "markdown",
   "metadata": {},
   "source": [
    "### Short Circuiting\n",
    "Commonly used to prevent invalid operations"
   ]
  },
  {
   "cell_type": "markdown",
   "metadata": {},
   "source": [
    "## The If Statement\n",
    "Normal flow of control is sequential, top to bottom and left to right\n",
    "the if statement is a control structure that allows us to write a snippet of code predicated on a logical statement\n",
    " if ((conditional)) then\n",
    "    Code Block \n",
    " end"
   ]
  },
  {
   "cell_type": "code",
   "execution_count": 2,
   "metadata": {},
   "outputs": [
    {
     "name": "stdout",
     "output_type": "stream",
     "text": [
      "Five is greater than three\n",
      "Red is greater than blue\n"
     ]
    }
   ],
   "source": [
    "# python if statement\n",
    "if 5 > 3:\n",
    "    print(\"Five is greater than three\")\n",
    "\n",
    "red = 5\n",
    "blue = 3\n",
    "\n",
    "if red > blue: \n",
    "    print(\"Red is greater than blue\")\n",
    "    "
   ]
  },
  {
   "cell_type": "markdown",
   "metadata": {},
   "source": [
    "## The If-Else Statement\n",
    "allows an alternate condition to execute if the condition is false\n",
    "if (conditional) then:\n",
    "    Code Block 1\n",
    "else:\n",
    "    Code Block 2\n",
    "    "
   ]
  },
  {
   "cell_type": "code",
   "execution_count": 3,
   "metadata": {},
   "outputs": [
    {
     "name": "stdout",
     "output_type": "stream",
     "text": [
      "Five is not less than three\n",
      "I love a car\n"
     ]
    }
   ],
   "source": [
    "# python if else statement\n",
    "if 5 < 3:\n",
    "    print(\"Five is less than three\")\n",
    "else:\n",
    "    print(\"Five is not less than three\")\n",
    "\n",
    "favorite = \"car\"\n",
    "if favorite == \"car\":\n",
    "    print(\"I love a car\")\n",
    "else:\n",
    "    print(\"What is this\")"
   ]
  },
  {
   "cell_type": "markdown",
   "metadata": {},
   "source": [
    "## The If-Else-If Statement\n",
    "more than two possibilities\n",
    "\n",
    "- basic syntax\n",
    "if (conditional1) then:\n",
    "    Code Block 1\n",
    "elif (conditional2):\n",
    "    Code Block 2\n",
    "else:\n",
    "    Code Block 3"
   ]
  },
  {
   "cell_type": "code",
   "execution_count": 4,
   "metadata": {},
   "outputs": [
    {
     "name": "stdout",
     "output_type": "stream",
     "text": [
      "You selected 4\n",
      "Number is less than 5\n"
     ]
    }
   ],
   "source": [
    "# basic if-else-if example\n",
    "\n",
    "response = input(\"Enter a number: \")\n",
    "# since all inputs are strings in python, convert to integer\n",
    "number = int(response)\n",
    "print(\"You selected \" + response)\n",
    "if number > 10:\n",
    "    print(\"Number is greater than 10\")\n",
    "elif number < 5:\n",
    "    print(\"Number is less than 5\")\n",
    "else:\n",
    "    print(\"Number is too high for this program!\")\n"
   ]
  },
  {
   "cell_type": "markdown",
   "metadata": {},
   "source": [
    "## Ternary if else operator\n",
    "- compact\n",
    "- basic syntax\n",
    "(conditional|boolean)? expression1 : expression2\n",
    "\n",
    "---\n",
    "\n",
    "## Examples"
   ]
  },
  {
   "cell_type": "markdown",
   "metadata": {
    "vscode": {
     "languageId": "ruby"
    }
   },
   "source": [
    "### Meal Discount\n",
    "write a program to compute a discount \n",
    "\n",
    "0. prompt user to enter subtotal\n",
    "1. save the user response to a variable -> subTotal\n",
    "2. intialize the discount -> discountPercent = 0\n",
    "3. ask user if have a discount ->\n",
    "    if hasDiscount == \"yes\" then\n",
    "        prompt user for discount amount\n",
    "        save user response to a variable -> discountPercent\n",
    "    end\n",
    "\n",
    "    if discountPercent > 100 then\n",
    "        Error! Cannot be more than 100%\n",
    "    end\n",
    "4. discount <- subTotal * discountPercent\n",
    "5. discountTotal <- subTotal - discount\n",
    "6. tax <- taxRate * discountTotal\n",
    "7. totalCost <- discountTotal + tax\n",
    "8. display subTotal, discountTotal, tax, totalCost to user"
   ]
  },
  {
   "cell_type": "markdown",
   "metadata": {},
   "source": [
    "### Look Before You Leap\n",
    "\n",
    "introduction to **defensive programming**\n",
    "\n",
    "0. if y is not equal to 0 then\n",
    "       quotient is x divided by y\n",
    "    end"
   ]
  },
  {
   "cell_type": "markdown",
   "metadata": {},
   "source": [
    "### Comparing Elements\n",
    "below"
   ]
  },
  {
   "cell_type": "code",
   "execution_count": 3,
   "metadata": {},
   "outputs": [],
   "source": [
    "# write a program to compare two elements and orders them in which ever order\n",
    "\n",
    "# 0. if A's last name < B's last name then\n",
    "#         output A comes first\n",
    "#     else if A's last name > B's last name then\n",
    "#         output B comes first\n",
    "#     else \n",
    "#     // last names are equal so comapre their first names\n",
    "#         if A's first name < B's first name then\n",
    "#             output A comes first\n",
    "#         else if A's first name > B's first name then\n",
    "#             output B comes first\n",
    "#         else \n",
    "#             either order is fine\n",
    "#         end\n",
    "#     end\n",
    "    "
   ]
  },
  {
   "cell_type": "markdown",
   "metadata": {},
   "source": [
    "---\n",
    "## Exercises"
   ]
  },
  {
   "cell_type": "markdown",
   "metadata": {},
   "source": [
    "### 3.1 \n",
    "write a program that prompts user for x and a y coordinate in the cartesian plane and prints out a message indicating if the point (x and y) lies on axis or what quadrant it lies in"
   ]
  },
  {
   "cell_type": "code",
   "execution_count": null,
   "metadata": {},
   "outputs": [],
   "source": [
    "# 0. x <- prompt user for x coordinate in cartesian plane\n",
    "# 1. y <- prompt user for y coordinate in cartesian plane\n",
    "# 2. if x > 0 AND y > 0 then\n",
    "        # output the coordinates are not on either axis and is in the 1st Quadrant\n",
    "    # else if x > 0 AND y > 0 then\n",
    "        # output the coordinates are not on either axis and is in the 2nd Quadrant\n",
    "    # else if x < 0 AND y < 0 then\n",
    "        # output the coordinates are not on either axis and is in the 3rd Quadrant\n",
    "    # else if x < 0 AND y > 0 then\n",
    "        # output the coordinates are not on either axis and is in the 4th Quadrant\n",
    "    # else if x == 0 then\n",
    "        # output the coordinates are on the x axis\n",
    "    # else if y == 0\n",
    "        # output the coordinates are on the y axis\n",
    "    # else\n",
    "        # output please check the coordinates you entered and try again\n",
    "    # end"
   ]
  },
  {
   "cell_type": "markdown",
   "metadata": {},
   "source": [
    "### 3.2 \n",
    "write a program that prompts user for cost of two items, computes a 50% discount on the less expensive item and then computes a grand total"
   ]
  },
  {
   "cell_type": "code",
   "execution_count": null,
   "metadata": {},
   "outputs": [],
   "source": [
    "# 0. item1 <- prompt user for cost of one item on bogo\n",
    "# 1. item2 <- prompt user for cost of second item to qualify for bogo\n",
    "# 2. if item1 > item2 then\n",
    "        # output grandTotal is item1 + (item2 * 50%)\n",
    "    # else if item1 < item2 OR item1 == item2 then\n",
    "        # output grandTotal is (item1 * 50%) + item2\n",
    "    # else \n",
    "        # output have you entered two integers? try again"
   ]
  },
  {
   "cell_type": "markdown",
   "metadata": {},
   "source": [
    "### 3.3\n",
    "\n",
    "write a program to determine which type of gas is the better deal with respect to price per mile driven"
   ]
  },
  {
   "cell_type": "code",
   "execution_count": null,
   "metadata": {},
   "outputs": [],
   "source": [
    "# 0. gasOne <- prompt user for gas price one\n",
    "# 1. gasTwo <- prompt user for gas price two\n",
    "# 2. unleadedAPG <- prompt user for unleaded apg\n",
    "# 3. ethanolAPG <- prompt user for ethanol apg\n",
    "# 4. calculateUnleadedAPG  <- unleadedAPG / gasOne * 100%\n",
    "# 5. calculateEthanolAPG <- ethanolAPG / gasTwo * 100%\n",
    "# 6. if calculateUnleadedAPG > calculateEthanolAPG then\n",
    "        # output \"Unleaded at \" + calculateUnleadedAPG + \" per mile is the better deal\"\n",
    "    # else \n",
    "        # output \"Ethanol at \" + calculateEthanolAPG + \" per mile is the better deal\""
   ]
  },
  {
   "cell_type": "markdown",
   "metadata": {},
   "source": [
    "there are 8 more exercises, i will pussh thru for now and revisist for clarification and repitition\n",
    "11 4 2024"
   ]
  }
 ],
 "metadata": {
  "kernelspec": {
   "display_name": "Python 3",
   "language": "python",
   "name": "python3"
  },
  "language_info": {
   "codemirror_mode": {
    "name": "ipython",
    "version": 3
   },
   "file_extension": ".py",
   "mimetype": "text/x-python",
   "name": "python",
   "nbconvert_exporter": "python",
   "pygments_lexer": "ipython3",
   "version": "3.9.6"
  }
 },
 "nbformat": 4,
 "nbformat_minor": 2
}
